{
 "cells": [
  {
   "cell_type": "markdown",
   "id": "1fea1b68-2b1e-45e6-aba8-465eb3df25f8",
   "metadata": {},
   "source": [
    "## Das MNIST Dataset\n",
    "\n",
    "* besteht aus 60000 Trainings und 10000 Testbilder\n",
    "* Pixel der Bilder sind Grauwerte\n",
    "* Größe der Bilder 28x28 Pixel = 784 Pixel\n",
    "\n",
    "* Kann als Benchmark für einfache Bilderkennung genutzt werden\n",
    "* State-of-the-art Genauigkeit bei über 99,7 %\n",
    "* Für Interessierte: Die Competition bei Kaggle"
   ]
  },
  {
   "cell_type": "code",
   "execution_count": null,
   "id": "421a60cf-55d6-4eef-9119-551558212dfb",
   "metadata": {},
   "outputs": [],
   "source": [
    "from tensorflow.keras.datasets import mnist\n",
    "import matplotlib.pyplot as plt\n",
    "(x_train,y_train),(x_test,y_test) = mnist.load_data()\n",
    "print(f\"x_train shape: {x_train.shape}\")\n",
    "print(f\"y_train shape: {y_train.shape}\")\n",
    "print(f\"x_test shape: {x_test.shape}\")\n",
    "print(f\"y_test shape: {y_test.shape}\")\n",
    "\n",
    "# Ausgabe der ersten 100 Bilder\n",
    "num_row = 10\n",
    "num_col = 10\n",
    "num = num_row*num_col\n",
    "# plot images\n",
    "fig, axes = plt.subplots(num_row, num_col, figsize=(1.5*num_col,2*num_row))\n",
    "for i in range(num):\n",
    "    ax = axes[i//num_col, i%num_col]\n",
    "    ax.imshow(x_train[i], cmap='gray')\n",
    "    ax.set_title(f'Label {y_train[i]}')\n",
    "plt.tight_layout()\n",
    "plt.show()"
   ]
  },
  {
   "cell_type": "code",
   "execution_count": null,
   "id": "f8b2653d-6e9a-4c5b-94cd-4580456c245c",
   "metadata": {},
   "outputs": [],
   "source": []
  }
 ],
 "metadata": {
  "kernelspec": {
   "display_name": "Python 3 (ipykernel)",
   "language": "python",
   "name": "python3"
  },
  "language_info": {
   "codemirror_mode": {
    "name": "ipython",
    "version": 3
   },
   "file_extension": ".py",
   "mimetype": "text/x-python",
   "name": "python",
   "nbconvert_exporter": "python",
   "pygments_lexer": "ipython3",
   "version": "3.10.4"
  }
 },
 "nbformat": 4,
 "nbformat_minor": 5
}
