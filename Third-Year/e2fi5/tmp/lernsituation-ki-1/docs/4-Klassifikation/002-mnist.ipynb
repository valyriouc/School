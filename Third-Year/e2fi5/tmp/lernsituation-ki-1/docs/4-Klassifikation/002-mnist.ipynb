{
 "cells": [
  {
   "cell_type": "markdown",
   "id": "0ab29faf-56c0-4434-b909-c6369c641af4",
   "metadata": {},
   "source": [
    "# Mnist auswerten mit neuronalem Netzwerk \n",
    "## Mit einer Dense Layer "
   ]
  },
  {
   "cell_type": "code",
   "execution_count": null,
   "id": "f9570321-5a28-49bd-9260-101475497240",
   "metadata": {},
   "outputs": [],
   "source": [
    "#pip install tensorflow"
   ]
  },
  {
   "cell_type": "code",
   "execution_count": null,
   "id": "e2bf603d-a3be-49fd-bf4f-9466b610ffc8",
   "metadata": {},
   "outputs": [],
   "source": [
    "import numpy as np\n",
    "import tensorflow as tf\n",
    "from tensorflow.keras.utils import to_categorical\n",
    "from keras.layers import Dense, Flatten,Input\n",
    "from keras.models import Sequential\n",
    "from matplotlib import pyplot as plt\n",
    "from tensorflow.keras.datasets import mnist\n",
    "import matplotlib.pyplot as plt\n",
    "\n",
    "print(\"Tensorflow version \" + tf.__version__)\n",
    "\n",
    "EPOCHS = 10"
   ]
  },
  {
   "cell_type": "code",
   "execution_count": null,
   "id": "f774e135-a618-457e-a0bd-169d6a12e584",
   "metadata": {},
   "outputs": [],
   "source": [
    "# load dataset\n",
    "(trainX, trainY), (testX, testY) = mnist.load_data()\n",
    "\n",
    "#trainX = trainX.reshape(trainX.shape[0],28*28) #V2\n",
    "#testX = testX.reshape(testY.shape[0],28*28)    #V2\n",
    "\n",
    "# one hot encode target values\n",
    "trainY = to_categorical(trainY)\n",
    "testY = to_categorical(testY)"
   ]
  },
  {
   "cell_type": "code",
   "execution_count": null,
   "id": "3ca3c066-b35f-4fba-89eb-aed7443bdaa8",
   "metadata": {
    "tags": []
   },
   "outputs": [],
   "source": [
    "# Create simple Neural Network model\n",
    "#model = Sequential()\n",
    "#model.add(Flatten(input_shape=(28,28)))\n",
    "#model.add(Dense(10, activation='softmax'))\n",
    "\n",
    "model = Sequential(\n",
    "    [\n",
    "       ##Input(shape=(28*28,)),       #V2\n",
    "       Flatten(input_shape=(28,28)), #V1\n",
    "       Dense(10, activation='softmax')\n",
    "    ])\n",
    "\n",
    "\n",
    "# print model layers\n",
    "model.summary()\n",
    "\n",
    "model.compile(optimizer='sgd',\n",
    "              loss='categorical_crossentropy',\n",
    "              metrics=['accuracy'])\n",
    "\n",
    "# Train the Neural Network model\n",
    "history = model.fit(trainX, trainY, epochs=EPOCHS, validation_data=(testX,testY))\n",
    "\n",
    "# Making predictions using our trained model\n",
    "predictions = model.predict(testX)\n",
    "#print(np.shape(predictions))\n",
    "predictions = np.argmax(predictions, axis=1)\n",
    "#print(np.shape(predictions))"
   ]
  },
  {
   "cell_type": "code",
   "execution_count": null,
   "id": "9ffb0294-1aeb-4f12-8944-fe9076649f16",
   "metadata": {},
   "outputs": [],
   "source": [
    "#print(history.history)\n",
    "#print(history.epoch)\n",
    "#print(\"loss:\\n\",history.history[\"loss\"])\n",
    "#print(\"val_loss:\\n\",history.history[\"val_loss\"])\n",
    "#print(\"accuracy:\\n\",history.history[\"accuracy\"])\n",
    "#print(\"val_accuracy:\\n\",history.history[\"val_accuracy\"])"
   ]
  },
  {
   "cell_type": "code",
   "execution_count": null,
   "id": "0f0a9a71-d3de-4dab-82c1-0fe6c237648a",
   "metadata": {},
   "outputs": [],
   "source": [
    "from tensorflow.keras import models\n",
    "# Save the model\n",
    "model.save(\"my_model\")\n",
    "# It can be used to reconstruct the model identically.\n",
    "reconstructed_model = models.load_model(\"my_model\")\n",
    "# Evaluate the model\n",
    "loss, acc = reconstructed_model.evaluate(testX, testY)\n",
    "print(\"Restored model, accuracy: {:5.2f}%\".format(100 * acc))"
   ]
  },
  {
   "cell_type": "code",
   "execution_count": null,
   "id": "d0e82f9b-f0a4-48a3-bdb7-9fac5d8e8f35",
   "metadata": {},
   "outputs": [],
   "source": [
    "epoches = np.array(history.epoch)+1\n",
    "plt.title('Accuracy')\n",
    "plt.plot(epoches,history.history[\"accuracy\"],color='red',label=\"train accuracy\")\n",
    "plt.plot(epoches,history.history[\"val_accuracy\"],color='green',label=\"validation accuracy\")\n",
    "plt.legend(loc='lower right')\n",
    "plt.xlabel('Epoches')       # Beschriftung der X-Achse\n",
    "plt.ylabel('accuracy')      # Beschriftung der y-Achse \n",
    "plt.grid(True)              # Grid aktivieren\n",
    "plt.axis([0, 10, 0, 1])     # X-Range von 0 bis 10 Y-Range von 0 - 1\n",
    "plt.show()                  # Plot ausgeben"
   ]
  },
  {
   "cell_type": "code",
   "execution_count": null,
   "id": "744ab1e7-4a06-40d3-bde8-12bcde506278",
   "metadata": {},
   "outputs": [],
   "source": [
    "# Display some predictions on test data\n",
    "fig, axes = plt.subplots(ncols=10, sharex=False, sharey=True, figsize=(20, 4))\n",
    "for i in range(10):\n",
    "\taxes[i].set_title(predictions[i])\n",
    "\taxes[i].imshow(testX[i], cmap='gray')\n",
    "\taxes[i].get_xaxis().set_visible(False)\n",
    "\taxes[i].get_yaxis().set_visible(False)\n",
    "plt.show()"
   ]
  },
  {
   "cell_type": "markdown",
   "id": "91048882-6e4b-49d4-b1d8-e5393a809092",
   "metadata": {},
   "source": [
    "## Visualisierung der Gewichte"
   ]
  },
  {
   "cell_type": "code",
   "execution_count": null,
   "id": "f10f8090-7a90-4fec-94e6-fed1c0e1a673",
   "metadata": {},
   "outputs": [],
   "source": [
    "denseLayer = model.layers[1]\n",
    "weights, bias = denseLayer.get_weights()\n",
    "\n",
    "fig, axes = plt.subplots(ncols=10, sharex=False, sharey=True, figsize=(20, 20))\n",
    "for i in range(10):\n",
    "    wei = weights[:,i].reshape(28,28)\n",
    "    f_min, f_max = wei.min(), wei.max()\n",
    "     #print(str(f_min),str(f_max))\n",
    "    wei = (wei - f_min) / (f_max - f_min) \n",
    "    wei=wei*255\n",
    "    wei = wei.astype(int)\n",
    "    axes[i].set_title(str(i))\n",
    "    axes[i].imshow(wei, cmap='gray')\n",
    "    axes[i].get_xaxis().set_visible(False)\n",
    "    axes[i].get_yaxis().set_visible(False)\n",
    "plt.show()"
   ]
  },
  {
   "cell_type": "code",
   "execution_count": null,
   "id": "a0e4eea7-6631-4bd5-b5d1-db6783ad1b4b",
   "metadata": {},
   "outputs": [],
   "source": []
  }
 ],
 "metadata": {
  "kernelspec": {
   "display_name": "Python 3 (ipykernel)",
   "language": "python",
   "name": "python3"
  },
  "language_info": {
   "codemirror_mode": {
    "name": "ipython",
    "version": 3
   },
   "file_extension": ".py",
   "mimetype": "text/x-python",
   "name": "python",
   "nbconvert_exporter": "python",
   "pygments_lexer": "ipython3",
   "version": "3.10.4"
  }
 },
 "nbformat": 4,
 "nbformat_minor": 5
}
