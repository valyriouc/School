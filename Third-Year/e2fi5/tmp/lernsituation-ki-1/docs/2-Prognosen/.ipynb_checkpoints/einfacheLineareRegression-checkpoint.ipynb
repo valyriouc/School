{
 "cells": [
  {
   "cell_type": "markdown",
   "metadata": {},
   "source": [
    "### Wieviel Punkte können in der Klausur bei entsprechendem Vorbereitungsaufwand in etwa erzielt werden  "
   ]
  },
  {
   "cell_type": "code",
   "execution_count": 1,
   "metadata": {},
   "outputs": [],
   "source": [
    "# Vorbereitungsaufwand in Minuten\n",
    "x = [10,20,45,30,60] \n",
    "# erzielte Punkte\n",
    "y = [25,60,88,50,92] "
   ]
  },
  {
   "cell_type": "code",
   "execution_count": 70,
   "metadata": {},
   "outputs": [
    {
     "data": {
      "image/png": "[encoded data removed]",
      "text/plain": [
       "<Figure size 432x288 with 1 Axes>"
      ]
     },
     "metadata": {
      "needs_background": "light"
     },
     "output_type": "display_data"
    }
   ],
   "source": [
    "# Punkte anzeigen\n",
    "import matplotlib.pyplot as plt\n",
    "\n",
    "#Koordinatensystem\n",
    "xmin=0\n",
    "xmax=80\n",
    "ymin=0\n",
    "ymax=120\n",
    "plt.axis([xmin, xmax, ymin, ymax])\n",
    "plt.xlabel(\"X-Werte (Aufwand)\")\n",
    "plt.ylabel(\"Y-Werte (erzielte Punkte)\")\n",
    "\n",
    "# Punkte xList, yList\n",
    "plt.scatter(x, y, color=\"red\")\n",
    "\n",
    "plt.grid(True)\n",
    "plt.show()"
   ]
  },
  {
   "cell_type": "markdown",
   "metadata": {
    "jp-MarkdownHeadingCollapsed": true,
    "tags": []
   },
   "source": [
    "#### Einfache Lineare Regression\n",
    "\n",
    "#### Formeln:\n",
    "\n",
    "  - $m = \\frac{\\sum_{i=1}^{n}(x_i-\\bar{x})(y_i-\\bar{y})}{\\sum_{i=1}^n(x_i-\\bar{x})^2}$ \n",
    "    \n",
    "  - $b = \\bar{y} - m \\cdot \\bar{x}$\n",
    "    \n",
    "  - $R^2 = 1 - \\frac{\\sum_{i=1}^n(y_i-\\hat{y}_i)^2}{\\sum_{i=1}^n(y_i-\\bar{y})^2}$\n",
    "  \n",
    "  - $y = m \\cdot x + b$\n",
    "  \n",
    "#### Bedeutung:\n",
    "  - $m :=$ Steigung der Geraden\n",
    "  - $b :=$ y-Achsenabschnitt  \n",
    "  - $R^2 :=$ Wie viel Streuung kann von dem Regressionsmodell erklärt werden\n",
    "\n",
    "  \n",
    "#### Symbole:\n",
    "  - $\\bar{x} :=$ Mittelwert von $x$\n",
    "  - $\\bar{y} :=$ Mittelwert von $y$\n",
    "  - $\\hat{y} :=$ Schätzung zum Wert x"
   ]
  },
  {
   "cell_type": "markdown",
   "metadata": {
    "tags": []
   },
   "source": [
    "#### Einfache Lineare Regression Programmieren"
   ]
  },
  {
   "cell_type": "code",
   "execution_count": 2,
   "metadata": {},
   "outputs": [],
   "source": [
    "# Mittelwert (mean)\n",
    "def mittelwert(x):\n",
    "    sum = 0\n",
    "    for xe in x:\n",
    "        sum+=xe\n",
    "    return sum / len(x)    "
   ]
  },
  {
   "cell_type": "code",
   "execution_count": 37,
   "metadata": {},
   "outputs": [],
   "source": [
    "# Steigung m (slope)\n",
    "def compute_m(xList, yList):\n",
    "    xMittel=mittelwert(xList)\n",
    "    yMittel=mittelwert(yList)\n",
    "    frac1 = sum([(xList[i] - xMittel)*(yList[i] - yMittel) for i in range(len(xList))])\n",
    "    frac2 = sum([(xList[i] - xMittel)**2 for i in range(len(xList))])\n",
    "    m = frac1 / frac2\n",
    "    return m"
   ]
  },
  {
   "cell_type": "code",
   "execution_count": 38,
   "metadata": {},
   "outputs": [],
   "source": [
    "# b (intercept)\n",
    "def compute_b(xList,yList,m):\n",
    "    xMittel=mittelwert(xList)\n",
    "    yMittel=mittelwert(yList)\n",
    "    b = yMittel - m * xMittel\n",
    "    return b"
   ]
  },
  {
   "cell_type": "code",
   "execution_count": 28,
   "metadata": {},
   "outputs": [],
   "source": [
    "# y = f(x)\n",
    "def regVal(xVal, m, b):\n",
    "    return m*xVal+b"
   ]
  },
  {
   "cell_type": "code",
   "execution_count": 46,
   "metadata": {},
   "outputs": [],
   "source": [
    "# y-Werte der Regressionsgerade\n",
    "def regVals(xList, m, b):\n",
    "    yVals = [regVal(xList[i],m,b) for i in range(len(xList))]\n",
    "    return yVals"
   ]
  },
  {
   "cell_type": "code",
   "execution_count": 62,
   "metadata": {},
   "outputs": [],
   "source": [
    "# Methode der kleinsten Quadrate kurz MKQ bzw. englisch method of least squares\n",
    "def mkq(yList, regVals):\n",
    "    mkq = sum([(yList[i] - regVals[i])**2 for i in range(len(yList))])\n",
    "    return mkq"
   ]
  },
  {
   "cell_type": "code",
   "execution_count": 67,
   "metadata": {},
   "outputs": [],
   "source": [
    "# R2\n",
    "def r2(yList, regVals):\n",
    "    yMittel=mittelwert(y)\n",
    "    frac1 = sum([(yList[i] - regVals[i])**2 for i in range(len(yList))])\n",
    "    frac2 = sum([(yList[i] - yMittel)**2 for i in range(len(yList))])\n",
    "    r2Val = 1 - frac1 / frac2\n",
    "    return r2Val"
   ]
  },
  {
   "cell_type": "markdown",
   "metadata": {},
   "source": [
    "#### Lineare Regression berechnen"
   ]
  },
  {
   "cell_type": "code",
   "execution_count": 71,
   "metadata": {},
   "outputs": [
    {
     "name": "stdout",
     "output_type": "stream",
     "text": [
      "Mittelwert x-Werte: 33.0\n",
      "Mittelwert y-Werte: 63.0\n"
     ]
    }
   ],
   "source": [
    "# xMittel, yMittel\n",
    "xMittel = mittelwert(x)\n",
    "yMittel = mittelwert(y)\n",
    "print(\"Mittelwert x-Werte:\",xMittel)\n",
    "print(\"Mittelwert y-Werte:\",yMittel)"
   ]
  },
  {
   "cell_type": "code",
   "execution_count": 40,
   "metadata": {},
   "outputs": [
    {
     "name": "stdout",
     "output_type": "stream",
     "text": [
      "y =  1.2879746835443038 *x +  20.496835443037973\n"
     ]
    }
   ],
   "source": [
    "# Funktionsgleichung der Regressionsgerade\n",
    "m = compute_m(x,y)\n",
    "b = compute_b(x,y,m)\n",
    "print(\"y = \",m,\"*x + \",b)"
   ]
  },
  {
   "cell_type": "code",
   "execution_count": 72,
   "metadata": {},
   "outputs": [
    {
     "name": "stdout",
     "output_type": "stream",
     "text": [
      "Regression Y-Werte: [(10, 33.37658227848101), (20, 46.25632911392405), (45, 78.45569620253164), (30, 59.13607594936709), (60, 97.77531645569621)]\n",
      "Methode der kleinsten Quadrate: 466.9715189873419\n",
      "R2: 0.8487786531776742\n"
     ]
    }
   ],
   "source": [
    "# compute regression values for all x_values\n",
    "regression = regVals(x,m,b)\n",
    "print(\"Regression Y-Werte:\",list(zip(x,regression)))\n",
    "# compute mkq\n",
    "mkqVal = mkq(y,regression)\n",
    "print(\"Methode der kleinsten Quadrate:\",mkqVal)\n",
    "# compute r2\n",
    "r2Val = r2(y,regression)\n",
    "print(\"R2:\",r2Val)"
   ]
  },
  {
   "cell_type": "markdown",
   "metadata": {},
   "source": [
    "### Daten darstellen"
   ]
  },
  {
   "cell_type": "code",
   "execution_count": 42,
   "metadata": {},
   "outputs": [
    {
     "data": {
      "image/png": "[encoded data removed]",
      "text/plain": [
       "<Figure size 432x288 with 1 Axes>"
      ]
     },
     "metadata": {
      "needs_background": "light"
     },
     "output_type": "display_data"
    }
   ],
   "source": [
    "# plot regression line \n",
    "# scatter y-values an regression-values\n",
    "import matplotlib.pyplot as plt\n",
    "\n",
    "#Koordinatensystem\n",
    "xmin=0\n",
    "xmax=80\n",
    "ymin=0\n",
    "ymax=120\n",
    "plt.axis([xmin, xmax, ymin, ymax])\n",
    "plt.xlabel(\"X-Werte (Aufwand)\")\n",
    "plt.ylabel(\"Y-Werte (erzielte Punkte)\")\n",
    "\n",
    "# Punkte xList, yList\n",
    "plt.scatter(x, y, color=\"red\")\n",
    "\n",
    "# Punkte Regressionsgerade\n",
    "plt.scatter(x,regression,color=\"green\")\n",
    "\n",
    "# Linie Regressionsgerade\n",
    "y1=regVal(xmin,m,b)\n",
    "y2=regVal(xmax,m,b)\n",
    "plt.plot([xmin,xmax],[y1,y2],color=\"blue\")\n",
    "\n",
    "plt.grid(True)\n",
    "plt.show()"
   ]
  },
  {
   "cell_type": "markdown",
   "metadata": {},
   "source": [
    "### Vorhersagen machen"
   ]
  },
  {
   "cell_type": "code",
   "execution_count": 59,
   "metadata": {},
   "outputs": [
    {
     "name": "stdout",
     "output_type": "stream",
     "text": [
      "Bei einem Vorbereitungsaufwand von 37 Minuten wird eine Punktzahl von 68.15 erwartet.\n",
      "Bei einem Vorbereitungsaufwand von 25 Minuten wird eine Punktzahl von 52.7 erwartet.\n",
      "Bei einem Vorbereitungsaufwand von 50 Minuten wird eine Punktzahl von 84.9 erwartet.\n",
      "Bei einem Vorbereitungsaufwand von 75 Minuten wird eine Punktzahl von 117.09 erwartet.\n"
     ]
    }
   ],
   "source": [
    "# predict y_value for x_value=50\n",
    "xVal = 37\n",
    "yValPred = regVal(37,m,b)\n",
    "print(\"Bei einem Vorbereitungsaufwand von\",xVal,\"Minuten wird eine Punktzahl von\",round(yValPred,2),\"erwartet.\")\n",
    "# predict y_values for x_values=50,70,90\n",
    "xVals = [25,50,75]\n",
    "yValsPred = regVals(xVals,m,b)\n",
    "for i in range(len(xVals)):\n",
    "    print(\"Bei einem Vorbereitungsaufwand von\",xVals[i],\"Minuten wird eine Punktzahl von\",round(yValsPred[i],2),\"erwartet.\")\n",
    "\n"
   ]
  },
  {
   "cell_type": "code",
   "execution_count": null,
   "metadata": {},
   "outputs": [],
   "source": []
  }
 ],
 "metadata": {
  "kernelspec": {
   "display_name": "Python 3 (ipykernel)",
   "language": "python",
   "name": "python3"
  },
  "language_info": {
   "codemirror_mode": {
    "name": "ipython",
    "version": 3
   },
   "file_extension": ".py",
   "mimetype": "text/x-python",
   "name": "python",
   "nbconvert_exporter": "python",
   "pygments_lexer": "ipython3",
   "version": "3.9.12"
  }
 },
 "nbformat": 4,
 "nbformat_minor": 4
}
